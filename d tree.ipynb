{
 "cells": [
  {
   "cell_type": "code",
   "execution_count": 57,
   "metadata": {
    "collapsed": false
   },
   "outputs": [],
   "source": [
    "from sklearn.datasets import load_iris\n",
    "from sklearn import tree\n",
    "import numpy as np\n",
    "from io import StringIO"
   ]
  },
  {
   "cell_type": "code",
   "execution_count": 58,
   "metadata": {
    "collapsed": false
   },
   "outputs": [],
   "source": [
    "iris = load_iris()"
   ]
  },
  {
   "cell_type": "code",
   "execution_count": 59,
   "metadata": {
    "collapsed": false
   },
   "outputs": [],
   "source": [
    "test_idx = [0,50,100]"
   ]
  },
  {
   "cell_type": "code",
   "execution_count": 60,
   "metadata": {
    "collapsed": false
   },
   "outputs": [],
   "source": [
    "#training \n",
    "train_target = np.delete(iris.target, test_idx)\n",
    "train_data = np.delete(iris.data, test_idx , axis=0)"
   ]
  },
  {
   "cell_type": "code",
   "execution_count": 61,
   "metadata": {
    "collapsed": true
   },
   "outputs": [],
   "source": [
    "#testing \n",
    "test_target = iris.target[test_idx]\n",
    "test_data = iris.data[test_idx]"
   ]
  },
  {
   "cell_type": "code",
   "execution_count": 62,
   "metadata": {
    "collapsed": false
   },
   "outputs": [],
   "source": [
    "clf = tree.DecisionTreeClassifier()"
   ]
  },
  {
   "cell_type": "code",
   "execution_count": 63,
   "metadata": {
    "collapsed": false
   },
   "outputs": [
    {
     "data": {
      "text/plain": [
       "DecisionTreeClassifier(class_weight=None, criterion='gini', max_depth=None,\n",
       "            max_features=None, max_leaf_nodes=None,\n",
       "            min_impurity_decrease=0.0, min_impurity_split=None,\n",
       "            min_samples_leaf=1, min_samples_split=2,\n",
       "            min_weight_fraction_leaf=0.0, presort=False, random_state=None,\n",
       "            splitter='best')"
      ]
     },
     "execution_count": 63,
     "metadata": {},
     "output_type": "execute_result"
    }
   ],
   "source": [
    "clf.fit(train_data , train_target)"
   ]
  },
  {
   "cell_type": "code",
   "execution_count": 64,
   "metadata": {
    "collapsed": false
   },
   "outputs": [
    {
     "data": {
      "text/plain": [
       "array([0, 1, 2])"
      ]
     },
     "execution_count": 64,
     "metadata": {},
     "output_type": "execute_result"
    }
   ],
   "source": [
    "test_target"
   ]
  },
  {
   "cell_type": "code",
   "execution_count": 65,
   "metadata": {
    "collapsed": false
   },
   "outputs": [
    {
     "data": {
      "text/plain": [
       "array([0, 1, 2])"
      ]
     },
     "execution_count": 65,
     "metadata": {},
     "output_type": "execute_result"
    }
   ],
   "source": [
    "clf.predict(test_data)"
   ]
  },
  {
   "cell_type": "code",
   "execution_count": 66,
   "metadata": {
    "collapsed": false
   },
   "outputs": [],
   "source": [
    "dot_data = StringIO()\n",
    "tree.export_graphviz(clf,out_file=dot_data, feature_names = iris.feature_names, class_names= iris.target_names, filled=True , rounded=True, impurity=False) "
   ]
  },
  {
   "cell_type": "code",
   "execution_count": 67,
   "metadata": {
    "collapsed": false
   },
   "outputs": [
    {
     "data": {
      "text/plain": [
       "'digraph Tree {\\nnode [shape=box, style=\"filled, rounded\", color=\"black\", fontname=helvetica] ;\\nedge [fontname=helvetica] ;\\n0 [label=\"petal length (cm) <= 2.45\\\\nsamples = 147\\\\nvalue = [49, 49, 49]\\\\nclass = setosa\", fillcolor=\"#e5813900\"] ;\\n1 [label=\"samples = 49\\\\nvalue = [49, 0, 0]\\\\nclass = setosa\", fillcolor=\"#e58139ff\"] ;\\n0 -> 1 [labeldistance=2.5, labelangle=45, headlabel=\"True\"] ;\\n2 [label=\"petal width (cm) <= 1.75\\\\nsamples = 98\\\\nvalue = [0, 49, 49]\\\\nclass = versicolor\", fillcolor=\"#39e58100\"] ;\\n0 -> 2 [labeldistance=2.5, labelangle=-45, headlabel=\"False\"] ;\\n3 [label=\"petal length (cm) <= 4.95\\\\nsamples = 53\\\\nvalue = [0, 48, 5]\\\\nclass = versicolor\", fillcolor=\"#39e581e4\"] ;\\n2 -> 3 ;\\n4 [label=\"petal width (cm) <= 1.65\\\\nsamples = 47\\\\nvalue = [0, 46, 1]\\\\nclass = versicolor\", fillcolor=\"#39e581f9\"] ;\\n3 -> 4 ;\\n5 [label=\"samples = 46\\\\nvalue = [0, 46, 0]\\\\nclass = versicolor\", fillcolor=\"#39e581ff\"] ;\\n4 -> 5 ;\\n6 [label=\"samples = 1\\\\nvalue = [0, 0, 1]\\\\nclass = virginica\", fillcolor=\"#8139e5ff\"] ;\\n4 -> 6 ;\\n7 [label=\"petal width (cm) <= 1.55\\\\nsamples = 6\\\\nvalue = [0, 2, 4]\\\\nclass = virginica\", fillcolor=\"#8139e57f\"] ;\\n3 -> 7 ;\\n8 [label=\"samples = 3\\\\nvalue = [0, 0, 3]\\\\nclass = virginica\", fillcolor=\"#8139e5ff\"] ;\\n7 -> 8 ;\\n9 [label=\"petal length (cm) <= 5.45\\\\nsamples = 3\\\\nvalue = [0, 2, 1]\\\\nclass = versicolor\", fillcolor=\"#39e5817f\"] ;\\n7 -> 9 ;\\n10 [label=\"samples = 2\\\\nvalue = [0, 2, 0]\\\\nclass = versicolor\", fillcolor=\"#39e581ff\"] ;\\n9 -> 10 ;\\n11 [label=\"samples = 1\\\\nvalue = [0, 0, 1]\\\\nclass = virginica\", fillcolor=\"#8139e5ff\"] ;\\n9 -> 11 ;\\n12 [label=\"petal length (cm) <= 4.85\\\\nsamples = 45\\\\nvalue = [0, 1, 44]\\\\nclass = virginica\", fillcolor=\"#8139e5f9\"] ;\\n2 -> 12 ;\\n13 [label=\"sepal width (cm) <= 3.1\\\\nsamples = 3\\\\nvalue = [0, 1, 2]\\\\nclass = virginica\", fillcolor=\"#8139e57f\"] ;\\n12 -> 13 ;\\n14 [label=\"samples = 2\\\\nvalue = [0, 0, 2]\\\\nclass = virginica\", fillcolor=\"#8139e5ff\"] ;\\n13 -> 14 ;\\n15 [label=\"samples = 1\\\\nvalue = [0, 1, 0]\\\\nclass = versicolor\", fillcolor=\"#39e581ff\"] ;\\n13 -> 15 ;\\n16 [label=\"samples = 42\\\\nvalue = [0, 0, 42]\\\\nclass = virginica\", fillcolor=\"#8139e5ff\"] ;\\n12 -> 16 ;\\n}'"
      ]
     },
     "execution_count": 67,
     "metadata": {},
     "output_type": "execute_result"
    }
   ],
   "source": [
    "dot_data.getvalue()\n",
    "#graph = pydot.graph_from_dot_data(dot_data.getvalue())\n",
    "#graph.write_pdf(\"iris.pdf\")"
   ]
  },
  {
   "cell_type": "code",
   "execution_count": null,
   "metadata": {
    "collapsed": true
   },
   "outputs": [],
   "source": []
  }
 ],
 "metadata": {
  "kernelspec": {
   "display_name": "Python 3",
   "language": "python",
   "name": "python3"
  },
  "language_info": {
   "codemirror_mode": {
    "name": "ipython",
    "version": 3
   },
   "file_extension": ".py",
   "mimetype": "text/x-python",
   "name": "python",
   "nbconvert_exporter": "python",
   "pygments_lexer": "ipython3",
   "version": "3.5.1"
  }
 },
 "nbformat": 4,
 "nbformat_minor": 0
}
